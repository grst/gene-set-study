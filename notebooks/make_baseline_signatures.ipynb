{
 "cells": [
  {
   "cell_type": "markdown",
   "metadata": {},
   "source": [
    "## Generation of baseline signatures\n",
    "In this notebook we will generate ubiquitous (housekeeping) signatures that should be overrepresented in every cell type and random signatures that should not be overrepresented in any sample. "
   ]
  },
  {
   "cell_type": "code",
   "execution_count": 34,
   "metadata": {
    "collapsed": false
   },
   "outputs": [
    {
     "name": "stdout",
     "output_type": "stream",
     "text": [
      "The autoreload extension is already loaded. To reload it, use:\n",
      "  %reload_ext autoreload\n"
     ]
    }
   ],
   "source": [
    "import sys\n",
    "\n",
    "%load_ext autoreload\n",
    "%autoreload 1\n",
    "%aimport pygenesig.validation\n",
    "%aimport pygenesig.gini\n",
    "%aimport pygenesig.bioqc\n",
    "%aimport pygenesig.tools\n",
    "%aimport pygenesig.perfmeasures\n",
    "%matplotlib inline\n",
    "\n",
    "import pandas as pd\n",
    "import random\n",
    "from pygenesig.tools import * "
   ]
  },
  {
   "cell_type": "code",
   "execution_count": 2,
   "metadata": {
    "collapsed": false
   },
   "outputs": [
    {
     "name": "stdout",
     "output_type": "stream",
     "text": [
      "awesome_housekeepers.csv  README.md  ubiquitous_signatures.gmt\r\n"
     ]
    }
   ],
   "source": [
    "!ls ../data/baseline/"
   ]
  },
  {
   "cell_type": "markdown",
   "metadata": {},
   "source": [
    "## load ubiquitous signatures"
   ]
  },
  {
   "cell_type": "code",
   "execution_count": 38,
   "metadata": {
    "collapsed": true
   },
   "outputs": [],
   "source": [
    "ubiquitous_sig = load_gmt(\"../data/baseline/ubiquitous_signatures.gmt\")"
   ]
  },
  {
   "cell_type": "markdown",
   "metadata": {},
   "source": [
    "## Make housekeeper signature"
   ]
  },
  {
   "cell_type": "code",
   "execution_count": 29,
   "metadata": {
    "collapsed": false
   },
   "outputs": [],
   "source": [
    "housekeepers = pd.read_csv(\"../data/baseline/awesome_housekeepers.csv\", sep=\";\", skiprows=2, header=None)"
   ]
  },
  {
   "cell_type": "code",
   "execution_count": 37,
   "metadata": {
    "collapsed": false
   },
   "outputs": [],
   "source": [
    "hk_genes = list(housekeepers.iloc[:, 1])\n",
    "hk_sig = {\"awesome_housekeepers\" : hk_genes}"
   ]
  },
  {
   "cell_type": "markdown",
   "metadata": {},
   "source": [
    "## make random signatures\n",
    "#### download hgnc symbols"
   ]
  },
  {
   "cell_type": "code",
   "execution_count": 4,
   "metadata": {
    "collapsed": false
   },
   "outputs": [
    {
     "name": "stdout",
     "output_type": "stream",
     "text": [
      "--2017-02-22 14:56:42--  ftp://ftp.ebi.ac.uk/pub/databases/genenames/new/tsv/hgnc_complete_set.txt\n",
      "           => ‘hgnc_complete_set.txt’\n",
      "Resolving ftp.ebi.ac.uk (ftp.ebi.ac.uk)... 193.62.192.4\n",
      "Connecting to ftp.ebi.ac.uk (ftp.ebi.ac.uk)|193.62.192.4|:21... connected.\n",
      "Logging in as anonymous ... Logged in!\n",
      "==> SYST ... done.    ==> PWD ... done.\n",
      "==> TYPE I ... done.  ==> CWD (1) /pub/databases/genenames/new/tsv ... done.\n",
      "==> SIZE hgnc_complete_set.txt ... 13848814\n",
      "==> PASV ... done.    ==> RETR hgnc_complete_set.txt ... done.\n",
      "Length: 13848814 (13M) (unauthoritative)\n",
      "\n",
      "100%[======================================>] 13,848,814  6.88MB/s   in 1.9s   \n",
      "\n",
      "2017-02-22 14:56:44 (6.88 MB/s) - ‘hgnc_complete_set.txt’ saved [13848814]\n",
      "\n"
     ]
    }
   ],
   "source": [
    "!cd ../data/baseline/ && wget ftp://ftp.ebi.ac.uk/pub/databases/genenames/new/tsv/hgnc_complete_set.txt"
   ]
  },
  {
   "cell_type": "code",
   "execution_count": 20,
   "metadata": {
    "collapsed": false
   },
   "outputs": [
    {
     "name": "stderr",
     "output_type": "stream",
     "text": [
      "/pstore/apps/Anaconda3/2.5.0/lib/python3.5/site-packages/IPython/core/interactiveshell.py:2902: DtypeWarning: Columns (32,34,38) have mixed types. Specify dtype option on import or set low_memory=False.\n",
      "  interactivity=interactivity, compiler=compiler, result=result)\n"
     ]
    }
   ],
   "source": [
    "hgnc = pd.read_csv(\"../data/baseline/hgnc_complete_set.txt\", sep=\"\\t\")\n",
    "symbols = list(hgnc.symbol)"
   ]
  },
  {
   "cell_type": "code",
   "execution_count": 14,
   "metadata": {
    "collapsed": true
   },
   "outputs": [],
   "source": [
    "random_sigs_length = [5, 10, 20, 50, 100, 200, 500, 1000, 2000, 5000]"
   ]
  },
  {
   "cell_type": "markdown",
   "metadata": {},
   "source": [
    "#### make signatures"
   ]
  },
  {
   "cell_type": "code",
   "execution_count": 22,
   "metadata": {
    "collapsed": false
   },
   "outputs": [],
   "source": [
    "signatures_random = {}\n",
    "for l in random_sigs_length:\n",
    "    for i in range(2):\n",
    "        genes = random.sample(symbols, l)\n",
    "        signatures_random[\"random_{}_{}\".format(l, i)] = genes"
   ]
  },
  {
   "cell_type": "markdown",
   "metadata": {},
   "source": [
    "## merge signatures"
   ]
  },
  {
   "cell_type": "code",
   "execution_count": 39,
   "metadata": {
    "collapsed": true
   },
   "outputs": [],
   "source": [
    "baseline_sigs = {**signatures_random, **ubiquitous_sig, **hk_sig}"
   ]
  },
  {
   "cell_type": "code",
   "execution_count": 42,
   "metadata": {
    "collapsed": true
   },
   "outputs": [],
   "source": [
    "write_gmt(baseline_sigs, \"../results/baseline_signatures.gmt\")"
   ]
  },
  {
   "cell_type": "code",
   "execution_count": null,
   "metadata": {
    "collapsed": true
   },
   "outputs": [],
   "source": []
  }
 ],
 "metadata": {
  "kernelspec": {
   "display_name": "Python 3",
   "language": "python",
   "name": "python3"
  },
  "language_info": {
   "codemirror_mode": {
    "name": "ipython",
    "version": 3
   },
   "file_extension": ".py",
   "mimetype": "text/x-python",
   "name": "python",
   "nbconvert_exporter": "python",
   "pygments_lexer": "ipython3",
   "version": "3.5.1"
  }
 },
 "nbformat": 4,
 "nbformat_minor": 0
}
