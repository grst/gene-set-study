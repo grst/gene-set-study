{
 "cells": [
  {
   "cell_type": "code",
   "execution_count": 185,
   "metadata": {
    "collapsed": false
   },
   "outputs": [
    {
     "name": "stdout",
     "output_type": "stream",
     "text": [
      "The autoreload extension is already loaded. To reload it, use:\n",
      "  %reload_ext autoreload\n"
     ]
    }
   ],
   "source": [
    "import sys\n",
    "sys.path.append(\"..\")\n",
    "\n",
    "%load_ext autoreload\n",
    "%autoreload 1\n",
    "%aimport pygenesig.signature_tools\n",
    "%matplotlib inline\n",
    "\n",
    "from pygenesig.signature_tools import * \n",
    "from pygenesig.gini import * \n",
    "from pygenesig.bioqc import * \n",
    "import numpy as np\n",
    "import pandas as pd\n",
    "from sklearn.model_selection import StratifiedKFold\n",
    "import sklearn.metrics as skm \n",
    "import dask.dataframe as dd\n",
    "import dask\n",
    "import tempfile\n",
    "from collections import OrderedDict\n",
    "import seaborn as sns\n",
    "from pylab import * "
   ]
  },
  {
   "cell_type": "code",
   "execution_count": 186,
   "metadata": {
    "collapsed": true
   },
   "outputs": [],
   "source": [
    "from distributed import Executor, progress\n",
    "e = Executor(\"10.114.185.14:8786\")"
   ]
  },
  {
   "cell_type": "code",
   "execution_count": 187,
   "metadata": {
    "collapsed": false
   },
   "outputs": [
    {
     "name": "stdout",
     "output_type": "stream",
     "text": [
      "GTEx_Analysis_v6_RNA-seq_RNA-SeQCv1.1.8_gene_reads.gct\tsigmat.all.gini\r\n",
      "GTEx_Analysis_v6_RNA-seq_RNA-SeQCv1.1.8_gene_rpkm.gct\tsigmat.rank1.gini\r\n",
      "GTEx-UDISDataSetID5681-sampleAnnotation.txt\t\tv6_UDIS.txt\r\n"
     ]
    }
   ],
   "source": [
    "!ls ../data/gtex"
   ]
  },
  {
   "cell_type": "code",
   "execution_count": 188,
   "metadata": {
    "collapsed": false
   },
   "outputs": [],
   "source": [
    "annotation = pd.read_csv(\"../data/gtex/GTEx-UDISDataSetID5681-sampleAnnotation.txt\", sep=\"\\t\", index_col=0)\n",
    "tissue = pd.read_csv(\"../data/gtex/v6_UDIS.txt\", sep=\"\\t\", index_col=0)"
   ]
  },
  {
   "cell_type": "code",
   "execution_count": 189,
   "metadata": {
    "collapsed": false
   },
   "outputs": [],
   "source": [
    "gct = pd.read_csv(\"../data/gtex/GTEx_Analysis_v6_RNA-seq_RNA-SeQCv1.1.8_gene_rpkm.gct\", sep=\"\\t\", skiprows=2, index_col=0)"
   ]
  },
  {
   "cell_type": "code",
   "execution_count": 190,
   "metadata": {
    "collapsed": false
   },
   "outputs": [],
   "source": [
    "genenames = gct.Description\n",
    "gct = gct.iloc[:, 1:]"
   ]
  },
  {
   "cell_type": "code",
   "execution_count": 191,
   "metadata": {
    "collapsed": false
   },
   "outputs": [],
   "source": [
    "assert len(gct.index) == len(genenames)\n",
    "ensemble2hgnc = OrderedDict(\n",
    "    (ens, hgnc.split(\".\")[0]) for (ens, hgnc) in zip(gct.index, genenames)\n",
    ")\n",
    "assert list(ensemble2hgnc.keys()) == list(gct.index)"
   ]
  },
  {
   "cell_type": "code",
   "execution_count": 192,
   "metadata": {
    "collapsed": false
   },
   "outputs": [],
   "source": [
    "col_vars = annotation.join(tissue, how=\"inner\")"
   ]
  },
  {
   "cell_type": "code",
   "execution_count": 193,
   "metadata": {
    "collapsed": false
   },
   "outputs": [],
   "source": [
    "col_vars = col_vars[col_vars.index.isin(gct.columns)]"
   ]
  },
  {
   "cell_type": "code",
   "execution_count": 194,
   "metadata": {
    "collapsed": true
   },
   "outputs": [],
   "source": [
    "grouped = col_vars.groupby(\"SMTS\")"
   ]
  },
  {
   "cell_type": "code",
   "execution_count": 195,
   "metadata": {
    "collapsed": false
   },
   "outputs": [
    {
     "data": {
      "text/plain": [
       "SMTS\n",
       "Adipose Tissue      577\n",
       "Adrenal Gland       145\n",
       "Bladder              11\n",
       "Blood               511\n",
       "Blood Vessel        689\n",
       "Brain              1259\n",
       "Breast              214\n",
       "Cervix Uteri         11\n",
       "Colon               345\n",
       "Esophagus           686\n",
       "Fallopian Tube        6\n",
       "Heart               412\n",
       "Kidney               32\n",
       "Liver               119\n",
       "Lung                320\n",
       "Muscle              430\n",
       "Nerve               304\n",
       "Ovary                97\n",
       "Pancreas            171\n",
       "Pituitary           103\n",
       "Prostate            106\n",
       "Salivary Gland       57\n",
       "Skin                890\n",
       "Small Intestine      88\n",
       "Spleen              104\n",
       "Stomach             192\n",
       "Testis              172\n",
       "Thyroid             323\n",
       "Uterus               83\n",
       "Vagina               96\n",
       "Name: Experimental readout, dtype: int64"
      ]
     },
     "execution_count": 195,
     "metadata": {},
     "output_type": "execute_result"
    }
   ],
   "source": [
    "tissue_count = grouped.count().iloc[:,1]\n",
    "tissue_count"
   ]
  },
  {
   "cell_type": "code",
   "execution_count": 196,
   "metadata": {
    "collapsed": false
   },
   "outputs": [],
   "source": [
    "col_vars = col_vars[col_vars.SMTS.isin(tissue_count[tissue_count > 30].index)]"
   ]
  },
  {
   "cell_type": "code",
   "execution_count": 1,
   "metadata": {
    "collapsed": false
   },
   "outputs": [
    {
     "ename": "NameError",
     "evalue": "name 'col_vars' is not defined",
     "output_type": "error",
     "traceback": [
      "\u001b[1;31m---------------------------------------------------------------------------\u001b[0m",
      "\u001b[1;31mNameError\u001b[0m                                 Traceback (most recent call last)",
      "\u001b[1;32m<ipython-input-1-649ed324f1c4>\u001b[0m in \u001b[0;36m<module>\u001b[1;34m()\u001b[0m\n\u001b[1;32m----> 1\u001b[1;33m \u001b[0mX\u001b[0m \u001b[1;33m=\u001b[0m \u001b[0mlist\u001b[0m\u001b[1;33m(\u001b[0m\u001b[0mcol_vars\u001b[0m\u001b[1;33m.\u001b[0m\u001b[0mindex\u001b[0m\u001b[1;33m)\u001b[0m\u001b[1;33m\u001b[0m\u001b[0m\n\u001b[0m\u001b[0;32m      2\u001b[0m \u001b[0my\u001b[0m \u001b[1;33m=\u001b[0m \u001b[0mlist\u001b[0m\u001b[1;33m(\u001b[0m\u001b[0mcol_vars\u001b[0m\u001b[1;33m.\u001b[0m\u001b[0mSMTS\u001b[0m\u001b[1;33m)\u001b[0m\u001b[1;33m\u001b[0m\u001b[0m\n\u001b[0;32m      3\u001b[0m \u001b[0mskf\u001b[0m \u001b[1;33m=\u001b[0m \u001b[0mStratifiedKFold\u001b[0m\u001b[1;33m(\u001b[0m\u001b[0mn_splits\u001b[0m\u001b[1;33m=\u001b[0m\u001b[1;36m10\u001b[0m\u001b[1;33m)\u001b[0m\u001b[1;33m\u001b[0m\u001b[0m\n",
      "\u001b[1;31mNameError\u001b[0m: name 'col_vars' is not defined"
     ]
    }
   ],
   "source": [
    "X = list(col_vars.index)\n",
    "y = list(col_vars.SMTS)\n",
    "skf = StratifiedKFold(n_splits=10)"
   ]
  },
  {
   "cell_type": "code",
   "execution_count": null,
   "metadata": {
    "collapsed": true
   },
   "outputs": [],
   "source": []
  },
  {
   "cell_type": "code",
   "execution_count": 198,
   "metadata": {
    "collapsed": false
   },
   "outputs": [],
   "source": [
    "i_train = []\n",
    "i_test = []\n",
    "for train, test in skf.split(X, y):\n",
    "    i_train.append(train)\n",
    "    i_test.append(test)"
   ]
  },
  {
   "cell_type": "code",
   "execution_count": 199,
   "metadata": {
    "collapsed": false
   },
   "outputs": [],
   "source": [
    "def gini_wrapper(train_ind):\n",
    "    \"\"\"calculate gini-signatures for a training set\"\"\"\n",
    "    sig = mk_gini_signature(gct, col_vars, subset=train_ind, tissue_col=\"SMTS\", min_gini=.9)\n",
    "    sig_hgnc = {tissue: set([ensemble2hgnc[ens] for ens in genes]) for tissue, genes in sig.items()}\n",
    "    return(sig_hgnc)"
   ]
  },
  {
   "cell_type": "code",
   "execution_count": 200,
   "metadata": {
    "collapsed": false,
    "scrolled": true
   },
   "outputs": [],
   "source": [
    "s1 = gini_wrapper(i_train[0])"
   ]
  },
  {
   "cell_type": "code",
   "execution_count": 201,
   "metadata": {
    "collapsed": false
   },
   "outputs": [
    {
     "data": {
      "text/plain": [
       "{'Adipose Tissue': 42,\n",
       " 'Adrenal Gland': 125,\n",
       " 'Blood': 349,\n",
       " 'Blood Vessel': 135,\n",
       " 'Brain': 167,\n",
       " 'Breast': 7,\n",
       " 'Colon': 15,\n",
       " 'Esophagus': 37,\n",
       " 'Heart': 244,\n",
       " 'Kidney': 51,\n",
       " 'Liver': 246,\n",
       " 'Lung': 25,\n",
       " 'Muscle': 429,\n",
       " 'Nerve': 42,\n",
       " 'Ovary': 110,\n",
       " 'Pancreas': 162,\n",
       " 'Pituitary': 28,\n",
       " 'Prostate': 4,\n",
       " 'Salivary Gland': 22,\n",
       " 'Skin': 127,\n",
       " 'Small Intestine': 19,\n",
       " 'Spleen': 95,\n",
       " 'Stomach': 29,\n",
       " 'Testis': 9,\n",
       " 'Thyroid': 29,\n",
       " 'Uterus': 87,\n",
       " 'Vagina': 23}"
      ]
     },
     "execution_count": 201,
     "metadata": {},
     "output_type": "execute_result"
    }
   ],
   "source": [
    "{sig: len(genes) for sig, genes in s1.items()}"
   ]
  },
  {
   "cell_type": "code",
   "execution_count": 202,
   "metadata": {
    "collapsed": false
   },
   "outputs": [],
   "source": [
    "#fsigs = e.map(gini_wrapper, i_train)"
   ]
  },
  {
   "cell_type": "code",
   "execution_count": 203,
   "metadata": {
    "collapsed": false
   },
   "outputs": [],
   "source": [
    "gmt_file = tempfile.NamedTemporaryFile()\n",
    "write_gmt(s1, gmt_file.name)"
   ]
  },
  {
   "cell_type": "code",
   "execution_count": 204,
   "metadata": {
    "collapsed": false
   },
   "outputs": [],
   "source": [
    "eset = mk_eset(gct.as_matrix(), np.array(list(ensemble2hgnc.values())))"
   ]
  },
  {
   "cell_type": "code",
   "execution_count": 205,
   "metadata": {
    "collapsed": false
   },
   "outputs": [],
   "source": [
    "gmt = read_gmt(gmt_file.name)"
   ]
  },
  {
   "cell_type": "code",
   "execution_count": 207,
   "metadata": {
    "collapsed": false
   },
   "outputs": [],
   "source": [
    "bioqc_res = wmw_test(eset, gmt, valType=(\"p.greater\"), col=\"GeneSymbols\")"
   ]
  },
  {
   "cell_type": "code",
   "execution_count": 209,
   "metadata": {
    "collapsed": false
   },
   "outputs": [],
   "source": [
    "bioqc_res_log = -np.log10(np.array(bioqc_res))"
   ]
  },
  {
   "cell_type": "code",
   "execution_count": 210,
   "metadata": {
    "collapsed": false
   },
   "outputs": [],
   "source": [
    "sigs_sorted = list(base.names(gmt))"
   ]
  },
  {
   "cell_type": "code",
   "execution_count": 211,
   "metadata": {
    "collapsed": false
   },
   "outputs": [],
   "source": [
    "res_test = bioqc_res_log[:, i_test[0]]"
   ]
  },
  {
   "cell_type": "code",
   "execution_count": 212,
   "metadata": {
    "collapsed": false
   },
   "outputs": [],
   "source": [
    "sig_test = np.argmax(res_test, axis=0)"
   ]
  },
  {
   "cell_type": "code",
   "execution_count": 213,
   "metadata": {
    "collapsed": false
   },
   "outputs": [],
   "source": [
    "sig_test_named = [sigs_sorted[i] for i in sig_test]\n",
    "predicted = sig_test_named"
   ]
  },
  {
   "cell_type": "code",
   "execution_count": 214,
   "metadata": {
    "collapsed": false
   },
   "outputs": [],
   "source": [
    "actual = col_vars.iloc[i_test[0], :].SMTS"
   ]
  },
  {
   "cell_type": "code",
   "execution_count": 215,
   "metadata": {
    "collapsed": false
   },
   "outputs": [],
   "source": [
    "assert len(actual) == len(predicted), \"length of predicted and actual do not match. \""
   ]
  },
  {
   "cell_type": "code",
   "execution_count": 216,
   "metadata": {
    "collapsed": false
   },
   "outputs": [
    {
     "data": {
      "text/plain": [
       "<matplotlib.axes._subplots.AxesSubplot at 0x2aabe2b375c0>"
      ]
     },
     "execution_count": 216,
     "metadata": {},
     "output_type": "execute_result"
    },
    {
     "data": {
      "image/png": "[encoded data removed]",
      "text/plain": [
       "<matplotlib.figure.Figure at 0x2aabe4480908>"
      ]
     },
     "metadata": {},
     "output_type": "display_data"
    }
   ],
   "source": [
    "fix, ax = subplots(figsize=(7, 7))\n",
    "sns.heatmap(skm.confusion_matrix(actual, predicted), ax=ax, annot=True, xticklabels=sigs_sorted, yticklabels=sigs_sorted)"
   ]
  },
  {
   "cell_type": "code",
   "execution_count": null,
   "metadata": {
    "collapsed": true
   },
   "outputs": [],
   "source": [
    "for tissue in sigs_sorted: \n",
    "    actual = [tissue if b else 'other' for b in col_vars[i_test[0], :].SMTS == tissue]\n",
    "    predicted = [tissue if b else 'other' for b in sig_test_named == tissue]\n",
    "    "
   ]
  }
 ],
 "metadata": {
  "kernelspec": {
   "display_name": "Python 3",
   "language": "python",
   "name": "python3"
  },
  "language_info": {
   "codemirror_mode": {
    "name": "ipython",
    "version": 3
   },
   "file_extension": ".py",
   "mimetype": "text/x-python",
   "name": "python",
   "nbconvert_exporter": "python",
   "pygments_lexer": "ipython3",
   "version": "3.5.1"
  }
 },
 "nbformat": 4,
 "nbformat_minor": 0
}
