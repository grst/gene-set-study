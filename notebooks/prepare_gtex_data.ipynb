{
 "cells": [
  {
   "cell_type": "code",
   "execution_count": 2,
   "metadata": {
    "collapsed": false
   },
   "outputs": [
    {
     "name": "stdout",
     "output_type": "stream",
     "text": [
      "The autoreload extension is already loaded. To reload it, use:\n",
      "  %reload_ext autoreload\n"
     ]
    }
   ],
   "source": [
    "import sys\n",
    "sys.path.append(\"..\")\n",
    "\n",
    "%load_ext autoreload\n",
    "%autoreload 1\n",
    "%aimport pygenesig\n",
    "%matplotlib inline\n",
    "\n",
    "import numpy as np\n",
    "import pandas as pd\n",
    "from collections import OrderedDict\n"
   ]
  },
  {
   "cell_type": "markdown",
   "metadata": {},
   "source": [
    "# Preprocess GTEx data\n",
    "For the crossvalidation we need a\n",
    "* matrix of gene expression data\n",
    "* list of target classes (signatures) \n",
    "\n",
    "Here, we extract the relevant information from the gtex `.gct` and annotation files. "
   ]
  },
  {
   "cell_type": "code",
   "execution_count": 3,
   "metadata": {
    "collapsed": false
   },
   "outputs": [
    {
     "name": "stdout",
     "output_type": "stream",
     "text": [
      "GTEx_Analysis_v6_RNA-seq_RNA-SeQCv1.1.8_gene_reads.gct\tsigmat.all.gini\r\n",
      "GTEx_Analysis_v6_RNA-seq_RNA-SeQCv1.1.8_gene_rpkm.gct\tsigmat.rank1.gini\r\n",
      "GTEx-UDISDataSetID5681-sampleAnnotation.txt\t\tv6_UDIS.txt\r\n"
     ]
    }
   ],
   "source": [
    "!ls ../data/gtex"
   ]
  },
  {
   "cell_type": "code",
   "execution_count": 4,
   "metadata": {
    "collapsed": false
   },
   "outputs": [],
   "source": [
    "annotation = pd.read_csv(\"../data/gtex/GTEx-UDISDataSetID5681-sampleAnnotation.txt\", sep=\"\\t\", index_col=0)\n",
    "tissue = pd.read_csv(\"../data/gtex/v6_UDIS.txt\", sep=\"\\t\", index_col=0)"
   ]
  },
  {
   "cell_type": "code",
   "execution_count": 5,
   "metadata": {
    "collapsed": false
   },
   "outputs": [],
   "source": [
    "gct = pd.read_csv(\"../data/gtex/GTEx_Analysis_v6_RNA-seq_RNA-SeQCv1.1.8_gene_rpkm.gct\", sep=\"\\t\", skiprows=2, index_col=0)"
   ]
  },
  {
   "cell_type": "code",
   "execution_count": 6,
   "metadata": {
    "collapsed": false
   },
   "outputs": [],
   "source": [
    "genenames = gct.Description\n",
    "gct = gct.iloc[:, 1:]"
   ]
  },
  {
   "cell_type": "code",
   "execution_count": 7,
   "metadata": {
    "collapsed": false
   },
   "outputs": [],
   "source": [
    "assert len(gct.index) == len(genenames)\n",
    "ensemble2hgnc = OrderedDict(\n",
    "    (ens, hgnc.split(\".\")[0]) for (ens, hgnc) in zip(gct.index, genenames)\n",
    ")\n",
    "assert list(ensemble2hgnc.keys()) == list(gct.index)"
   ]
  },
  {
   "cell_type": "code",
   "execution_count": 8,
   "metadata": {
    "collapsed": false
   },
   "outputs": [],
   "source": [
    "col_vars = annotation.join(tissue, how=\"inner\")"
   ]
  },
  {
   "cell_type": "code",
   "execution_count": 9,
   "metadata": {
    "collapsed": false
   },
   "outputs": [],
   "source": [
    "col_vars = col_vars[col_vars.index.isin(gct.columns)]"
   ]
  },
  {
   "cell_type": "code",
   "execution_count": 10,
   "metadata": {
    "collapsed": true
   },
   "outputs": [],
   "source": [
    "grouped = col_vars.groupby(\"SMTS\")"
   ]
  },
  {
   "cell_type": "code",
   "execution_count": 11,
   "metadata": {
    "collapsed": false
   },
   "outputs": [
    {
     "data": {
      "text/plain": [
       "SMTS\n",
       "Adipose Tissue      577\n",
       "Adrenal Gland       145\n",
       "Bladder              11\n",
       "Blood               511\n",
       "Blood Vessel        689\n",
       "Brain              1259\n",
       "Breast              214\n",
       "Cervix Uteri         11\n",
       "Colon               345\n",
       "Esophagus           686\n",
       "Fallopian Tube        6\n",
       "Heart               412\n",
       "Kidney               32\n",
       "Liver               119\n",
       "Lung                320\n",
       "Muscle              430\n",
       "Nerve               304\n",
       "Ovary                97\n",
       "Pancreas            171\n",
       "Pituitary           103\n",
       "Prostate            106\n",
       "Salivary Gland       57\n",
       "Skin                890\n",
       "Small Intestine      88\n",
       "Spleen              104\n",
       "Stomach             192\n",
       "Testis              172\n",
       "Thyroid             323\n",
       "Uterus               83\n",
       "Vagina               96\n",
       "Name: Experimental readout, dtype: int64"
      ]
     },
     "execution_count": 11,
     "metadata": {},
     "output_type": "execute_result"
    }
   ],
   "source": [
    "tissue_count = grouped.count().iloc[:,1]\n",
    "tissue_count"
   ]
  },
  {
   "cell_type": "code",
   "execution_count": 12,
   "metadata": {
    "collapsed": false
   },
   "outputs": [],
   "source": [
    "col_vars = col_vars[col_vars.SMTS.isin(tissue_count[tissue_count > 30].index)]"
   ]
  },
  {
   "cell_type": "markdown",
   "metadata": {},
   "source": [
    "## Store results"
   ]
  },
  {
   "cell_type": "code",
   "execution_count": 25,
   "metadata": {
    "collapsed": false
   },
   "outputs": [],
   "source": [
    "exprs = gct.as_matrix()\n",
    "exprs.tofile(\"../data/gtex/exprs.mat\")"
   ]
  },
  {
   "cell_type": "code",
   "execution_count": 23,
   "metadata": {
    "collapsed": false
   },
   "outputs": [],
   "source": [
    "target = np.array(col_vars.SMTS)\n",
    "np.savetxt(\"../data/gtex/target.csv\", target, delimiter=\",\", fmt=\"%s\")"
   ]
  }
 ],
 "metadata": {
  "kernelspec": {
   "display_name": "Python 3",
   "language": "python",
   "name": "python3"
  },
  "language_info": {
   "codemirror_mode": {
    "name": "ipython",
    "version": 3
   },
   "file_extension": ".py",
   "mimetype": "text/x-python",
   "name": "python",
   "nbconvert_exporter": "python",
   "pygments_lexer": "ipython3",
   "version": "3.5.1"
  }
 },
 "nbformat": 4,
 "nbformat_minor": 0
}
