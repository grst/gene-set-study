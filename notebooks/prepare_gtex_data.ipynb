{
 "cells": [
  {
   "cell_type": "code",
   "execution_count": 2,
   "metadata": {
    "collapsed": false
   },
   "outputs": [],
   "source": [
    "import sys\n",
    "sys.path.append(\"..\")\n",
    "\n",
    "%load_ext autoreload\n",
    "%autoreload 1\n",
    "%aimport pygenesig\n",
    "%matplotlib inline\n",
    "\n",
    "import numpy as np\n",
    "import pandas as pd\n",
    "from collections import OrderedDict\n"
   ]
  },
  {
   "cell_type": "markdown",
   "metadata": {},
   "source": [
    "# Preprocess GTEx data\n",
    "For the crossvalidation we need a\n",
    "* matrix of gene expression data\n",
    "* list of target classes (signatures) \n",
    "\n",
    "Here, we extract the relevant information from the gtex `.gct` and annotation files. "
   ]
  },
  {
   "cell_type": "code",
   "execution_count": 3,
   "metadata": {
    "collapsed": false
   },
   "outputs": [
    {
     "name": "stdout",
     "output_type": "stream",
     "text": [
      "exprs.npy\t\t\t\t\t\tsigmat.all.gini\r\n",
      "GTEx_Analysis_v6_RNA-seq_RNA-SeQCv1.1.8_gene_reads.gct\tsigmat.rank1.gini\r\n",
      "GTEx_Analysis_v6_RNA-seq_RNA-SeQCv1.1.8_gene_rpkm.gct\ttarget.csv\r\n",
      "GTEx-UDISDataSetID5681-sampleAnnotation.txt\t\tv6_UDIS.txt\r\n"
     ]
    }
   ],
   "source": [
    "!ls ../data/gtex"
   ]
  },
  {
   "cell_type": "code",
   "execution_count": 4,
   "metadata": {
    "collapsed": false
   },
   "outputs": [],
   "source": [
    "annotation = pd.read_csv(\"../data/gtex/GTEx-UDISDataSetID5681-sampleAnnotation.txt\", sep=\"\\t\", index_col=0)\n",
    "tissue = pd.read_csv(\"../data/gtex/v6_UDIS.txt\", sep=\"\\t\", index_col=0)"
   ]
  },
  {
   "cell_type": "code",
   "execution_count": 5,
   "metadata": {
    "collapsed": false
   },
   "outputs": [],
   "source": [
    "gct = pd.read_csv(\"../data/gtex/GTEx_Analysis_v6_RNA-seq_RNA-SeQCv1.1.8_gene_rpkm.gct\", sep=\"\\t\", skiprows=2, index_col=0)"
   ]
  },
  {
   "cell_type": "code",
   "execution_count": 6,
   "metadata": {
    "collapsed": false
   },
   "outputs": [],
   "source": [
    "genenames = gct.Description\n",
    "gct = gct.iloc[:, 1:]"
   ]
  },
  {
   "cell_type": "code",
   "execution_count": 7,
   "metadata": {
    "collapsed": false
   },
   "outputs": [],
   "source": [
    "assert len(gct.index) == len(genenames)\n",
    "ensemble2hgnc = OrderedDict(\n",
    "    (ens, hgnc.split(\".\")[0]) for (ens, hgnc) in zip(gct.index, genenames)\n",
    ")\n",
    "assert list(ensemble2hgnc.keys()) == list(gct.index)"
   ]
  },
  {
   "cell_type": "code",
   "execution_count": 8,
   "metadata": {
    "collapsed": false
   },
   "outputs": [],
   "source": [
    "col_vars = annotation.join(tissue, how=\"inner\")"
   ]
  },
  {
   "cell_type": "code",
   "execution_count": 9,
   "metadata": {
    "collapsed": false
   },
   "outputs": [
    {
     "data": {
      "text/plain": [
       "SMTS\n",
       "Adipose Tissue      655\n",
       "Adrenal Gland       161\n",
       "Bladder              13\n",
       "Blood              1965\n",
       "Blood Vessel        831\n",
       "Bone Marrow         127\n",
       "Brain              1632\n",
       "Breast              222\n",
       "Cervix Uteri         11\n",
       "Colon               387\n",
       "Esophagus           814\n",
       "Fallopian Tube        7\n",
       "Heart               555\n",
       "Kidney               38\n",
       "Liver               143\n",
       "Lung                497\n",
       "Muscle              566\n",
       "Nerve               390\n",
       "Ovary               112\n",
       "Pancreas            204\n",
       "Pituitary           128\n",
       "Prostate            123\n",
       "Salivary Gland       71\n",
       "Skin               1046\n",
       "Small Intestine     106\n",
       "Spleen              121\n",
       "Stomach             210\n",
       "Testis              209\n",
       "Thyroid             437\n",
       "Uterus               93\n",
       "Vagina               99\n",
       "Name: Experimental readout, dtype: int64"
      ]
     },
     "execution_count": 9,
     "metadata": {},
     "output_type": "execute_result"
    }
   ],
   "source": [
    "grouped = col_vars.groupby(\"SMTS\")\n",
    "tissue_count = grouped.count().iloc[:,1]\n",
    "tissue_count"
   ]
  },
  {
   "cell_type": "code",
   "execution_count": 10,
   "metadata": {
    "collapsed": true
   },
   "outputs": [],
   "source": [
    "col_vars = col_vars[col_vars.SMTS.isin(tissue_count[tissue_count > 30].index)]"
   ]
  },
  {
   "cell_type": "code",
   "execution_count": 11,
   "metadata": {
    "collapsed": false
   },
   "outputs": [
    {
     "data": {
      "text/plain": [
       "((11942, 32), (56318, 8555))"
      ]
     },
     "execution_count": 11,
     "metadata": {},
     "output_type": "execute_result"
    }
   ],
   "source": [
    "col_vars.shape, gct.shape"
   ]
  },
  {
   "cell_type": "code",
   "execution_count": 12,
   "metadata": {
    "collapsed": true
   },
   "outputs": [],
   "source": [
    "col_vars = col_vars[col_vars.index.isin(gct.columns)]"
   ]
  },
  {
   "cell_type": "code",
   "execution_count": 13,
   "metadata": {
    "collapsed": false
   },
   "outputs": [
    {
     "data": {
      "text/plain": [
       "((8525, 32), (56318, 8555))"
      ]
     },
     "execution_count": 13,
     "metadata": {},
     "output_type": "execute_result"
    }
   ],
   "source": [
    "col_vars.shape, gct.shape"
   ]
  },
  {
   "cell_type": "code",
   "execution_count": 14,
   "metadata": {
    "collapsed": false
   },
   "outputs": [],
   "source": [
    "gct = gct.loc[:, gct.columns.isin(col_vars.index)]"
   ]
  },
  {
   "cell_type": "code",
   "execution_count": 15,
   "metadata": {
    "collapsed": false
   },
   "outputs": [
    {
     "data": {
      "text/plain": [
       "((8525, 32), (56318, 8525))"
      ]
     },
     "execution_count": 15,
     "metadata": {},
     "output_type": "execute_result"
    }
   ],
   "source": [
    "col_vars.shape, gct.shape"
   ]
  },
  {
   "cell_type": "markdown",
   "metadata": {},
   "source": [
    "## Store results"
   ]
  },
  {
   "cell_type": "code",
   "execution_count": 15,
   "metadata": {
    "collapsed": false
   },
   "outputs": [],
   "source": [
    "exprs = gct.as_matrix()\n",
    "np.save(\"../data/gtex/exprs.npy\", exprs)"
   ]
  },
  {
   "cell_type": "markdown",
   "metadata": {},
   "source": [
    "**make sure target is in the same order as exprs columns**"
   ]
  },
  {
   "cell_type": "code",
   "execution_count": 16,
   "metadata": {
    "collapsed": false
   },
   "outputs": [],
   "source": [
    "assert np.all(gct.columns == col_vars.loc[gct.columns].SMTS.index), \"order of exprs and target are not identical\"\n",
    "assert sum(col_vars.loc[gct.columns][\"SMTS\"].isnull()) == 0, \"tissue annotation contains NaN's\""
   ]
  },
  {
   "cell_type": "code",
   "execution_count": 17,
   "metadata": {
    "collapsed": false
   },
   "outputs": [],
   "source": [
    "target = np.array([str(x) for x in col_vars.loc[gct.columns].SMTS])\n",
    "np.savetxt(\"../data/gtex/target.csv\", target, delimiter=\",\", fmt=\"%s\")"
   ]
  },
  {
   "cell_type": "code",
   "execution_count": 18,
   "metadata": {
    "collapsed": false
   },
   "outputs": [
    {
     "data": {
      "text/plain": [
       "array(['Adipose Tissue', 'Adrenal Gland', 'Blood', 'Blood Vessel', 'Brain',\n",
       "       'Breast', 'Colon', 'Esophagus', 'Heart', 'Kidney', 'Liver', 'Lung',\n",
       "       'Muscle', 'Nerve', 'Ovary', 'Pancreas', 'Pituitary', 'Prostate',\n",
       "       'Salivary Gland', 'Skin', 'Small Intestine', 'Spleen', 'Stomach',\n",
       "       'Testis', 'Thyroid', 'Uterus', 'Vagina'], \n",
       "      dtype='<U15')"
      ]
     },
     "execution_count": 18,
     "metadata": {},
     "output_type": "execute_result"
    }
   ],
   "source": [
    "np.unique(target)"
   ]
  },
  {
   "cell_type": "code",
   "execution_count": 22,
   "metadata": {
    "collapsed": false
   },
   "outputs": [],
   "source": [
    "covariates = col_vars.loc[gct.columns, (\"SMTS\", \"Gender\", \"RIN\")]\n",
    "covariates.to_csv(\"../data/gtex/covariates.csv\")"
   ]
  },
  {
   "cell_type": "code",
   "execution_count": 20,
   "metadata": {
    "collapsed": false
   },
   "outputs": [
    {
     "data": {
      "text/html": [
       "<div>\n",
       "<table border=\"1\" class=\"dataframe\">\n",
       "  <thead>\n",
       "    <tr style=\"text-align: right;\">\n",
       "      <th></th>\n",
       "      <th>SMTS</th>\n",
       "      <th>Gender</th>\n",
       "      <th>RIN</th>\n",
       "    </tr>\n",
       "  </thead>\n",
       "  <tbody>\n",
       "    <tr>\n",
       "      <th>GTEX-111CU-1826-SM-5GZYN</th>\n",
       "      <td>Adipose Tissue</td>\n",
       "      <td>Male</td>\n",
       "      <td>7.5</td>\n",
       "    </tr>\n",
       "    <tr>\n",
       "      <th>GTEX-111FC-0226-SM-5N9B8</th>\n",
       "      <td>Adipose Tissue</td>\n",
       "      <td>Male</td>\n",
       "      <td>7.3</td>\n",
       "    </tr>\n",
       "    <tr>\n",
       "      <th>GTEX-111VG-2326-SM-5N9BK</th>\n",
       "      <td>Adipose Tissue</td>\n",
       "      <td>Male</td>\n",
       "      <td>7.7</td>\n",
       "    </tr>\n",
       "    <tr>\n",
       "      <th>GTEX-111YS-2426-SM-5GZZQ</th>\n",
       "      <td>Adipose Tissue</td>\n",
       "      <td>Male</td>\n",
       "      <td>6.6</td>\n",
       "    </tr>\n",
       "    <tr>\n",
       "      <th>GTEX-1122O-2026-SM-5NQ91</th>\n",
       "      <td>Adipose Tissue</td>\n",
       "      <td>Female</td>\n",
       "      <td>6.3</td>\n",
       "    </tr>\n",
       "    <tr>\n",
       "      <th>GTEX-1128S-2126-SM-5H12U</th>\n",
       "      <td>Adipose Tissue</td>\n",
       "      <td>Female</td>\n",
       "      <td>6.5</td>\n",
       "    </tr>\n",
       "    <tr>\n",
       "      <th>GTEX-113IC-0226-SM-5HL5C</th>\n",
       "      <td>Adipose Tissue</td>\n",
       "      <td>Male</td>\n",
       "      <td>6.7</td>\n",
       "    </tr>\n",
       "    <tr>\n",
       "      <th>GTEX-117YX-2226-SM-5EGJJ</th>\n",
       "      <td>Adipose Tissue</td>\n",
       "      <td>Male</td>\n",
       "      <td>7.4</td>\n",
       "    </tr>\n",
       "    <tr>\n",
       "      <th>GTEX-11DXW-0326-SM-5H11W</th>\n",
       "      <td>Adipose Tissue</td>\n",
       "      <td>Male</td>\n",
       "      <td>7.3</td>\n",
       "    </tr>\n",
       "    <tr>\n",
       "      <th>GTEX-11DXX-2326-SM-5Q5A2</th>\n",
       "      <td>Adipose Tissue</td>\n",
       "      <td>Female</td>\n",
       "      <td>8.1</td>\n",
       "    </tr>\n",
       "    <tr>\n",
       "      <th>GTEX-11DZ1-0226-SM-5A5KF</th>\n",
       "      <td>Adipose Tissue</td>\n",
       "      <td>Male</td>\n",
       "      <td>6.4</td>\n",
       "    </tr>\n",
       "    <tr>\n",
       "      <th>GTEX-11EI6-0226-SM-5EQ64</th>\n",
       "      <td>Adipose Tissue</td>\n",
       "      <td>Male</td>\n",
       "      <td>6.8</td>\n",
       "    </tr>\n",
       "    <tr>\n",
       "      <th>GTEX-11EM3-2326-SM-5H12B</th>\n",
       "      <td>Adipose Tissue</td>\n",
       "      <td>Female</td>\n",
       "      <td>7.1</td>\n",
       "    </tr>\n",
       "    <tr>\n",
       "      <th>GTEX-11EMC-2826-SM-5PNY6</th>\n",
       "      <td>Adipose Tissue</td>\n",
       "      <td>Female</td>\n",
       "      <td>8.1</td>\n",
       "    </tr>\n",
       "    <tr>\n",
       "      <th>GTEX-11EQ8-0226-SM-5EQ5G</th>\n",
       "      <td>Adipose Tissue</td>\n",
       "      <td>Male</td>\n",
       "      <td>6.0</td>\n",
       "    </tr>\n",
       "    <tr>\n",
       "      <th>GTEX-11EQ9-2526-SM-5HL66</th>\n",
       "      <td>Adipose Tissue</td>\n",
       "      <td>Male</td>\n",
       "      <td>6.9</td>\n",
       "    </tr>\n",
       "    <tr>\n",
       "      <th>GTEX-11GS4-2626-SM-5A5LD</th>\n",
       "      <td>Adipose Tissue</td>\n",
       "      <td>Male</td>\n",
       "      <td>7.0</td>\n",
       "    </tr>\n",
       "    <tr>\n",
       "      <th>GTEX-11GSO-2326-SM-5A5LX</th>\n",
       "      <td>Adipose Tissue</td>\n",
       "      <td>Male</td>\n",
       "      <td>7.9</td>\n",
       "    </tr>\n",
       "    <tr>\n",
       "      <th>GTEX-11H98-0226-SM-5NQ89</th>\n",
       "      <td>Adipose Tissue</td>\n",
       "      <td>Male</td>\n",
       "      <td>6.7</td>\n",
       "    </tr>\n",
       "    <tr>\n",
       "      <th>GTEX-11I78-2626-SM-5Q5AI</th>\n",
       "      <td>Adipose Tissue</td>\n",
       "      <td>Female</td>\n",
       "      <td>6.3</td>\n",
       "    </tr>\n",
       "    <tr>\n",
       "      <th>GTEX-11LCK-1126-SM-5A5KC</th>\n",
       "      <td>Adipose Tissue</td>\n",
       "      <td>Male</td>\n",
       "      <td>7.0</td>\n",
       "    </tr>\n",
       "    <tr>\n",
       "      <th>GTEX-11O72-0226-SM-59869</th>\n",
       "      <td>Adipose Tissue</td>\n",
       "      <td>Male</td>\n",
       "      <td>6.4</td>\n",
       "    </tr>\n",
       "    <tr>\n",
       "      <th>GTEX-11OF3-2426-SM-5Q5AS</th>\n",
       "      <td>Adipose Tissue</td>\n",
       "      <td>Male</td>\n",
       "      <td>6.3</td>\n",
       "    </tr>\n",
       "    <tr>\n",
       "      <th>GTEX-11ONC-2526-SM-5986W</th>\n",
       "      <td>Adipose Tissue</td>\n",
       "      <td>Male</td>\n",
       "      <td>7.5</td>\n",
       "    </tr>\n",
       "    <tr>\n",
       "      <th>GTEX-11P7K-2026-SM-5GU74</th>\n",
       "      <td>Adipose Tissue</td>\n",
       "      <td>Male</td>\n",
       "      <td>7.7</td>\n",
       "    </tr>\n",
       "    <tr>\n",
       "      <th>GTEX-11P81-2426-SM-5GU65</th>\n",
       "      <td>Adipose Tissue</td>\n",
       "      <td>Female</td>\n",
       "      <td>7.4</td>\n",
       "    </tr>\n",
       "    <tr>\n",
       "      <th>GTEX-11P82-1726-SM-5Q5AT</th>\n",
       "      <td>Adipose Tissue</td>\n",
       "      <td>Male</td>\n",
       "      <td>7.6</td>\n",
       "    </tr>\n",
       "    <tr>\n",
       "      <th>GTEX-11PRG-0626-SM-5BC56</th>\n",
       "      <td>Adipose Tissue</td>\n",
       "      <td>Male</td>\n",
       "      <td>6.8</td>\n",
       "    </tr>\n",
       "    <tr>\n",
       "      <th>GTEX-11TTK-0226-SM-5N9EC</th>\n",
       "      <td>Adipose Tissue</td>\n",
       "      <td>Female</td>\n",
       "      <td>5.7</td>\n",
       "    </tr>\n",
       "    <tr>\n",
       "      <th>GTEX-11TUW-2626-SM-5EQKZ</th>\n",
       "      <td>Adipose Tissue</td>\n",
       "      <td>Male</td>\n",
       "      <td>6.8</td>\n",
       "    </tr>\n",
       "    <tr>\n",
       "      <th>...</th>\n",
       "      <td>...</td>\n",
       "      <td>...</td>\n",
       "      <td>...</td>\n",
       "    </tr>\n",
       "    <tr>\n",
       "      <th>GTEX-ZDTS-0006-SM-4WAYZ</th>\n",
       "      <td>Blood</td>\n",
       "      <td>Male</td>\n",
       "      <td>9.5</td>\n",
       "    </tr>\n",
       "    <tr>\n",
       "      <th>GTEX-ZE7O-0006-SM-51MTA</th>\n",
       "      <td>Blood</td>\n",
       "      <td>Female</td>\n",
       "      <td>7.4</td>\n",
       "    </tr>\n",
       "    <tr>\n",
       "      <th>GTEX-ZF3C-0005-SM-4WWAR</th>\n",
       "      <td>Blood</td>\n",
       "      <td>Female</td>\n",
       "      <td>8.2</td>\n",
       "    </tr>\n",
       "    <tr>\n",
       "      <th>GTEX-ZG7Y-0006-SM-4WWEA</th>\n",
       "      <td>Blood</td>\n",
       "      <td>Male</td>\n",
       "      <td>5.7</td>\n",
       "    </tr>\n",
       "    <tr>\n",
       "      <th>GTEX-ZGAY-0006-SM-4WWAQ</th>\n",
       "      <td>Blood</td>\n",
       "      <td>Female</td>\n",
       "      <td>8.1</td>\n",
       "    </tr>\n",
       "    <tr>\n",
       "      <th>GTEX-ZLV1-0005-SM-4WWAP</th>\n",
       "      <td>Blood</td>\n",
       "      <td>Female</td>\n",
       "      <td>8.4</td>\n",
       "    </tr>\n",
       "    <tr>\n",
       "      <th>GTEX-ZP4G-0006-SM-4WWE6</th>\n",
       "      <td>Blood</td>\n",
       "      <td>Female</td>\n",
       "      <td>8.3</td>\n",
       "    </tr>\n",
       "    <tr>\n",
       "      <th>GTEX-ZPCL-0006-SM-4WWAS</th>\n",
       "      <td>Blood</td>\n",
       "      <td>Female</td>\n",
       "      <td>9.0</td>\n",
       "    </tr>\n",
       "    <tr>\n",
       "      <th>GTEX-ZPIC-0005-SM-4WWEB</th>\n",
       "      <td>Blood</td>\n",
       "      <td>Female</td>\n",
       "      <td>7.7</td>\n",
       "    </tr>\n",
       "    <tr>\n",
       "      <th>GTEX-ZPU1-0006-SM-4WWAT</th>\n",
       "      <td>Blood</td>\n",
       "      <td>Male</td>\n",
       "      <td>7.2</td>\n",
       "    </tr>\n",
       "    <tr>\n",
       "      <th>GTEX-ZQG8-0005-SM-4YCEH</th>\n",
       "      <td>Blood</td>\n",
       "      <td>Female</td>\n",
       "      <td>8.5</td>\n",
       "    </tr>\n",
       "    <tr>\n",
       "      <th>GTEX-ZQUD-0005-SM-4YCE5</th>\n",
       "      <td>Blood</td>\n",
       "      <td>Male</td>\n",
       "      <td>8.6</td>\n",
       "    </tr>\n",
       "    <tr>\n",
       "      <th>GTEX-ZT9W-0005-SM-4YCEG</th>\n",
       "      <td>Blood</td>\n",
       "      <td>Male</td>\n",
       "      <td>9.1</td>\n",
       "    </tr>\n",
       "    <tr>\n",
       "      <th>GTEX-ZTPG-0006-SM-4YCFG</th>\n",
       "      <td>Blood</td>\n",
       "      <td>Female</td>\n",
       "      <td>9.3</td>\n",
       "    </tr>\n",
       "    <tr>\n",
       "      <th>GTEX-ZTSS-0005-SM-4YCDR</th>\n",
       "      <td>Blood</td>\n",
       "      <td>Male</td>\n",
       "      <td>9.1</td>\n",
       "    </tr>\n",
       "    <tr>\n",
       "      <th>GTEX-ZTTD-0006-SM-51MSJ</th>\n",
       "      <td>Blood</td>\n",
       "      <td>Male</td>\n",
       "      <td>8.4</td>\n",
       "    </tr>\n",
       "    <tr>\n",
       "      <th>GTEX-ZTX8-0006-SM-4YCE4</th>\n",
       "      <td>Blood</td>\n",
       "      <td>Male</td>\n",
       "      <td>9.5</td>\n",
       "    </tr>\n",
       "    <tr>\n",
       "      <th>GTEX-ZUA1-0005-SM-4YCEV</th>\n",
       "      <td>Blood</td>\n",
       "      <td>Male</td>\n",
       "      <td>8.9</td>\n",
       "    </tr>\n",
       "    <tr>\n",
       "      <th>GTEX-ZV68-0006-SM-4YCEJ</th>\n",
       "      <td>Blood</td>\n",
       "      <td>Female</td>\n",
       "      <td>9.2</td>\n",
       "    </tr>\n",
       "    <tr>\n",
       "      <th>GTEX-ZV7C-0005-SM-57WDL</th>\n",
       "      <td>Blood</td>\n",
       "      <td>Male</td>\n",
       "      <td>9.5</td>\n",
       "    </tr>\n",
       "    <tr>\n",
       "      <th>GTEX-ZVE2-0006-SM-51MRW</th>\n",
       "      <td>Blood</td>\n",
       "      <td>Male</td>\n",
       "      <td>7.4</td>\n",
       "    </tr>\n",
       "    <tr>\n",
       "      <th>GTEX-ZVP2-0005-SM-51MRK</th>\n",
       "      <td>Blood</td>\n",
       "      <td>Male</td>\n",
       "      <td>6.9</td>\n",
       "    </tr>\n",
       "    <tr>\n",
       "      <th>GTEX-ZVT2-0005-SM-57WBW</th>\n",
       "      <td>Blood</td>\n",
       "      <td>Female</td>\n",
       "      <td>6.4</td>\n",
       "    </tr>\n",
       "    <tr>\n",
       "      <th>GTEX-ZVT3-0006-SM-51MT9</th>\n",
       "      <td>Blood</td>\n",
       "      <td>Female</td>\n",
       "      <td>7.7</td>\n",
       "    </tr>\n",
       "    <tr>\n",
       "      <th>GTEX-ZVT4-0006-SM-57WB8</th>\n",
       "      <td>Blood</td>\n",
       "      <td>Female</td>\n",
       "      <td>6.9</td>\n",
       "    </tr>\n",
       "    <tr>\n",
       "      <th>GTEX-ZVTK-0006-SM-57WBK</th>\n",
       "      <td>Blood</td>\n",
       "      <td>Male</td>\n",
       "      <td>8.5</td>\n",
       "    </tr>\n",
       "    <tr>\n",
       "      <th>GTEX-ZVZP-0006-SM-51MSW</th>\n",
       "      <td>Blood</td>\n",
       "      <td>Male</td>\n",
       "      <td>7.9</td>\n",
       "    </tr>\n",
       "    <tr>\n",
       "      <th>GTEX-ZVZQ-0006-SM-51MR8</th>\n",
       "      <td>Blood</td>\n",
       "      <td>Female</td>\n",
       "      <td>7.6</td>\n",
       "    </tr>\n",
       "    <tr>\n",
       "      <th>GTEX-ZXES-0005-SM-57WCB</th>\n",
       "      <td>Blood</td>\n",
       "      <td>Female</td>\n",
       "      <td>8.8</td>\n",
       "    </tr>\n",
       "    <tr>\n",
       "      <th>GTEX-ZXG5-0005-SM-57WCN</th>\n",
       "      <td>Blood</td>\n",
       "      <td>Male</td>\n",
       "      <td>9.0</td>\n",
       "    </tr>\n",
       "  </tbody>\n",
       "</table>\n",
       "<p>8525 rows × 3 columns</p>\n",
       "</div>"
      ],
      "text/plain": [
       "                                    SMTS  Gender  RIN\n",
       "GTEX-111CU-1826-SM-5GZYN  Adipose Tissue    Male  7.5\n",
       "GTEX-111FC-0226-SM-5N9B8  Adipose Tissue    Male  7.3\n",
       "GTEX-111VG-2326-SM-5N9BK  Adipose Tissue    Male  7.7\n",
       "GTEX-111YS-2426-SM-5GZZQ  Adipose Tissue    Male  6.6\n",
       "GTEX-1122O-2026-SM-5NQ91  Adipose Tissue  Female  6.3\n",
       "GTEX-1128S-2126-SM-5H12U  Adipose Tissue  Female  6.5\n",
       "GTEX-113IC-0226-SM-5HL5C  Adipose Tissue    Male  6.7\n",
       "GTEX-117YX-2226-SM-5EGJJ  Adipose Tissue    Male  7.4\n",
       "GTEX-11DXW-0326-SM-5H11W  Adipose Tissue    Male  7.3\n",
       "GTEX-11DXX-2326-SM-5Q5A2  Adipose Tissue  Female  8.1\n",
       "GTEX-11DZ1-0226-SM-5A5KF  Adipose Tissue    Male  6.4\n",
       "GTEX-11EI6-0226-SM-5EQ64  Adipose Tissue    Male  6.8\n",
       "GTEX-11EM3-2326-SM-5H12B  Adipose Tissue  Female  7.1\n",
       "GTEX-11EMC-2826-SM-5PNY6  Adipose Tissue  Female  8.1\n",
       "GTEX-11EQ8-0226-SM-5EQ5G  Adipose Tissue    Male  6.0\n",
       "GTEX-11EQ9-2526-SM-5HL66  Adipose Tissue    Male  6.9\n",
       "GTEX-11GS4-2626-SM-5A5LD  Adipose Tissue    Male  7.0\n",
       "GTEX-11GSO-2326-SM-5A5LX  Adipose Tissue    Male  7.9\n",
       "GTEX-11H98-0226-SM-5NQ89  Adipose Tissue    Male  6.7\n",
       "GTEX-11I78-2626-SM-5Q5AI  Adipose Tissue  Female  6.3\n",
       "GTEX-11LCK-1126-SM-5A5KC  Adipose Tissue    Male  7.0\n",
       "GTEX-11O72-0226-SM-59869  Adipose Tissue    Male  6.4\n",
       "GTEX-11OF3-2426-SM-5Q5AS  Adipose Tissue    Male  6.3\n",
       "GTEX-11ONC-2526-SM-5986W  Adipose Tissue    Male  7.5\n",
       "GTEX-11P7K-2026-SM-5GU74  Adipose Tissue    Male  7.7\n",
       "GTEX-11P81-2426-SM-5GU65  Adipose Tissue  Female  7.4\n",
       "GTEX-11P82-1726-SM-5Q5AT  Adipose Tissue    Male  7.6\n",
       "GTEX-11PRG-0626-SM-5BC56  Adipose Tissue    Male  6.8\n",
       "GTEX-11TTK-0226-SM-5N9EC  Adipose Tissue  Female  5.7\n",
       "GTEX-11TUW-2626-SM-5EQKZ  Adipose Tissue    Male  6.8\n",
       "...                                  ...     ...  ...\n",
       "GTEX-ZDTS-0006-SM-4WAYZ            Blood    Male  9.5\n",
       "GTEX-ZE7O-0006-SM-51MTA            Blood  Female  7.4\n",
       "GTEX-ZF3C-0005-SM-4WWAR            Blood  Female  8.2\n",
       "GTEX-ZG7Y-0006-SM-4WWEA            Blood    Male  5.7\n",
       "GTEX-ZGAY-0006-SM-4WWAQ            Blood  Female  8.1\n",
       "GTEX-ZLV1-0005-SM-4WWAP            Blood  Female  8.4\n",
       "GTEX-ZP4G-0006-SM-4WWE6            Blood  Female  8.3\n",
       "GTEX-ZPCL-0006-SM-4WWAS            Blood  Female  9.0\n",
       "GTEX-ZPIC-0005-SM-4WWEB            Blood  Female  7.7\n",
       "GTEX-ZPU1-0006-SM-4WWAT            Blood    Male  7.2\n",
       "GTEX-ZQG8-0005-SM-4YCEH            Blood  Female  8.5\n",
       "GTEX-ZQUD-0005-SM-4YCE5            Blood    Male  8.6\n",
       "GTEX-ZT9W-0005-SM-4YCEG            Blood    Male  9.1\n",
       "GTEX-ZTPG-0006-SM-4YCFG            Blood  Female  9.3\n",
       "GTEX-ZTSS-0005-SM-4YCDR            Blood    Male  9.1\n",
       "GTEX-ZTTD-0006-SM-51MSJ            Blood    Male  8.4\n",
       "GTEX-ZTX8-0006-SM-4YCE4            Blood    Male  9.5\n",
       "GTEX-ZUA1-0005-SM-4YCEV            Blood    Male  8.9\n",
       "GTEX-ZV68-0006-SM-4YCEJ            Blood  Female  9.2\n",
       "GTEX-ZV7C-0005-SM-57WDL            Blood    Male  9.5\n",
       "GTEX-ZVE2-0006-SM-51MRW            Blood    Male  7.4\n",
       "GTEX-ZVP2-0005-SM-51MRK            Blood    Male  6.9\n",
       "GTEX-ZVT2-0005-SM-57WBW            Blood  Female  6.4\n",
       "GTEX-ZVT3-0006-SM-51MT9            Blood  Female  7.7\n",
       "GTEX-ZVT4-0006-SM-57WB8            Blood  Female  6.9\n",
       "GTEX-ZVTK-0006-SM-57WBK            Blood    Male  8.5\n",
       "GTEX-ZVZP-0006-SM-51MSW            Blood    Male  7.9\n",
       "GTEX-ZVZQ-0006-SM-51MR8            Blood  Female  7.6\n",
       "GTEX-ZXES-0005-SM-57WCB            Blood  Female  8.8\n",
       "GTEX-ZXG5-0005-SM-57WCN            Blood    Male  9.0\n",
       "\n",
       "[8525 rows x 3 columns]"
      ]
     },
     "execution_count": 20,
     "metadata": {},
     "output_type": "execute_result"
    }
   ],
   "source": [
    "covariates"
   ]
  },
  {
   "cell_type": "code",
   "execution_count": null,
   "metadata": {
    "collapsed": true
   },
   "outputs": [],
   "source": []
  }
 ],
 "metadata": {
  "kernelspec": {
   "display_name": "Python 3",
   "language": "python",
   "name": "python3"
  },
  "language_info": {
   "codemirror_mode": {
    "name": "ipython",
    "version": 3
   },
   "file_extension": ".py",
   "mimetype": "text/x-python",
   "name": "python",
   "nbconvert_exporter": "python",
   "pygments_lexer": "ipython3",
   "version": "3.5.1"
  }
 },
 "nbformat": 4,
 "nbformat_minor": 0
}
